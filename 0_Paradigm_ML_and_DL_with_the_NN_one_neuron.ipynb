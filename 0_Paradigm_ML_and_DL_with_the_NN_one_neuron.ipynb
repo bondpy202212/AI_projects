{
  "nbformat": 4,
  "nbformat_minor": 0,
  "metadata": {
    "colab": {
      "provenance": [],
      "authorship_tag": "ABX9TyNYAIojGTOQCzAa7livvsee",
      "include_colab_link": true
    },
    "kernelspec": {
      "name": "python3",
      "display_name": "Python 3"
    },
    "language_info": {
      "name": "python"
    }
  },
  "cells": [
    {
      "cell_type": "markdown",
      "metadata": {
        "id": "view-in-github",
        "colab_type": "text"
      },
      "source": [
        "<a href=\"https://colab.research.google.com/github/bondpy202212/AI_projects/blob/main/0_Paradigm_ML_and_DL_with_the_NN_one_neuron.ipynb\" target=\"_parent\"><img src=\"https://colab.research.google.com/assets/colab-badge.svg\" alt=\"Open In Colab\"/></a>"
      ]
    },
    {
      "cell_type": "markdown",
      "source": [
        "**Importing Functions**"
      ],
      "metadata": {
        "id": "mfW_pAFFUgAf"
      }
    },
    {
      "cell_type": "code",
      "source": [
        "import numpy as np\n",
        "import tensorflow as tf\n",
        "import matplotlib.pyplot as plt\n",
        "from tensorflow import keras\n",
        "# from tensorflow.keras.layers import Input"
      ],
      "metadata": {
        "id": "SikajUBGUgW_"
      },
      "execution_count": 1,
      "outputs": []
    },
    {
      "cell_type": "markdown",
      "source": [
        "**Providing the Data**"
      ],
      "metadata": {
        "id": "8GwEpJ-_UszM"
      }
    },
    {
      "cell_type": "code",
      "source": [
        "# Declare model inputs and outputs for training\n",
        "# Function: Y = 2*X - 1\n",
        "x = [-1.0, 0.0, 1.0, 2.0, 3.0, 4.0]\n",
        "y = [-3.0, -1.0, 1.0, 3.0, 5.0, 7.0]\n",
        "xs = np.array(x, dtype=float)\n",
        "ys = np.array(y, dtype=float)\n"
      ],
      "metadata": {
        "id": "sRZZPMqmUxWN"
      },
      "execution_count": 2,
      "outputs": []
    },
    {
      "cell_type": "markdown",
      "source": [
        "**Model**"
      ],
      "metadata": {
        "id": "8QQjUmhSoCFD"
      }
    },
    {
      "cell_type": "code",
      "source": [
        "# Build a simple Sequential model\n",
        "model = tf.keras.Sequential([\n",
        "    tf.keras.Input(shape=(1,)),\n",
        "    tf.keras.layers.Dense(units=1)\n",
        "])"
      ],
      "metadata": {
        "id": "pC0GZ5ndq411"
      },
      "execution_count": 3,
      "outputs": []
    },
    {
      "cell_type": "code",
      "source": [
        "# Compile the model\n",
        "model.compile(optimizer='sgd', loss='mean_squared_error')"
      ],
      "metadata": {
        "id": "9SKkspzUoAQF"
      },
      "execution_count": 4,
      "outputs": []
    },
    {
      "cell_type": "markdown",
      "source": [
        "**Training the Neural Network**"
      ],
      "metadata": {
        "id": "hS2oV8eFnwF3"
      }
    },
    {
      "cell_type": "code",
      "source": [
        "# Train the model\n",
        "model.fit(xs, ys, epochs=500, verbose=0)"
      ],
      "metadata": {
        "id": "b5WC6_jhnx7v",
        "collapsed": true,
        "colab": {
          "base_uri": "https://localhost:8080/"
        },
        "outputId": "92200179-68b8-4711-e562-ded01218eb9b"
      },
      "execution_count": 5,
      "outputs": [
        {
          "output_type": "execute_result",
          "data": {
            "text/plain": [
              "<keras.src.callbacks.history.History at 0x7eb01e515960>"
            ]
          },
          "metadata": {},
          "execution_count": 5
        }
      ]
    },
    {
      "cell_type": "markdown",
      "source": [
        "**Prediction**"
      ],
      "metadata": {
        "id": "1KIO5NmooQ-c"
      }
    },
    {
      "cell_type": "code",
      "source": [
        "new_x = np.array([10])\n",
        "prediction = model.predict(new_x.reshape(1, -1))\n",
        "print(prediction)"
      ],
      "metadata": {
        "colab": {
          "base_uri": "https://localhost:8080/"
        },
        "id": "r9WzjwQboPbb",
        "outputId": "f1029efe-f744-4971-ad3b-7a6594f1741c"
      },
      "execution_count": 6,
      "outputs": [
        {
          "output_type": "stream",
          "name": "stdout",
          "text": [
            "\u001b[1m1/1\u001b[0m \u001b[32m━━━━━━━━━━━━━━━━━━━━\u001b[0m\u001b[37m\u001b[0m \u001b[1m0s\u001b[0m 74ms/step\n",
            "[[18.980072]]\n"
          ]
        }
      ]
    },
    {
      "cell_type": "markdown",
      "source": [
        "**Interpolation Function**"
      ],
      "metadata": {
        "id": "lCapYh6_pFbV"
      }
    },
    {
      "cell_type": "code",
      "source": [
        "def interp_func(x):\n",
        "  y = []\n",
        "  for i in x:\n",
        "    y.append((i * 2) - 1)\n",
        "  return y"
      ],
      "metadata": {
        "id": "H3JAhZgvpOam"
      },
      "execution_count": 7,
      "outputs": []
    },
    {
      "cell_type": "markdown",
      "source": [
        "**Data interpolation**"
      ],
      "metadata": {
        "id": "4A3qLL_0pjH5"
      }
    },
    {
      "cell_type": "code",
      "source": [
        "xi = np.append(xs, (new_x + new_x*0.4))\n",
        "yi = interp_func(xi)"
      ],
      "metadata": {
        "id": "kN3VACAtKXBa"
      },
      "execution_count": 8,
      "outputs": []
    },
    {
      "cell_type": "markdown",
      "source": [
        "**Solution Visualization**"
      ],
      "metadata": {
        "id": "HgFamBfSqCQ0"
      }
    },
    {
      "cell_type": "code",
      "source": [
        "plt.plot(xs, ys, '.g', label='Providing the Data')\n",
        "plt.plot(new_x, prediction, '*b', label='Prediction')\n",
        "plt.plot(xi, yi, 'r', label='Interpolation Function')\n",
        "plt.title('Data')\n",
        "plt.grid(True)\n",
        "plt.xlabel('x')\n",
        "plt.ylabel('y')\n",
        "plt.legend()\n",
        "plt.figure()\n",
        "plt.show()"
      ],
      "metadata": {
        "colab": {
          "base_uri": "https://localhost:8080/",
          "height": 489
        },
        "id": "CMqNWrBTqAxA",
        "outputId": "bb11bb76-2813-442f-8a2d-32e7aee0be5e"
      },
      "execution_count": 9,
      "outputs": [
        {
          "output_type": "display_data",
          "data": {
            "text/plain": [
              "<Figure size 640x480 with 1 Axes>"
            ],
            "image/png": "[encoded data removed]"
          },
          "metadata": {}
        },
        {
          "output_type": "display_data",
          "data": {
            "text/plain": [
              "<Figure size 640x480 with 0 Axes>"
            ]
          },
          "metadata": {}
        }
      ]
    }
  ]
}