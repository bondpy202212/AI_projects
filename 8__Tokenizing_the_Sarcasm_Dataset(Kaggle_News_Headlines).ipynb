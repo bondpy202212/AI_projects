{
  "nbformat": 4,
  "nbformat_minor": 0,
  "metadata": {
    "colab": {
      "provenance": [],
      "authorship_tag": "ABX9TyNRE9L6Ph3Jm3IerevikbcL",
      "include_colab_link": true
    },
    "kernelspec": {
      "name": "python3",
      "display_name": "Python 3"
    },
    "language_info": {
      "name": "python"
    }
  },
  "cells": [
    {
      "cell_type": "markdown",
      "metadata": {
        "id": "view-in-github",
        "colab_type": "text"
      },
      "source": [
        "<a href=\"https://colab.research.google.com/github/bondpy202212/AI_projects/blob/main/8__Tokenizing_the_Sarcasm_Dataset(Kaggle_News_Headlines).ipynb\" target=\"_parent\"><img src=\"https://colab.research.google.com/assets/colab-badge.svg\" alt=\"Open In Colab\"/></a>"
      ]
    },
    {
      "cell_type": "markdown",
      "source": [
        "**Imports**"
      ],
      "metadata": {
        "id": "CaLDCXKh_mz1"
      }
    },
    {
      "cell_type": "code",
      "source": [
        "import json\n",
        "\n",
        "from tensorflow.keras.preprocessing.text import Tokenizer\n",
        "from tensorflow.keras.preprocessing.sequence  import pad_sequences"
      ],
      "metadata": {
        "id": "drKPhtsd_o0-"
      },
      "execution_count": 1,
      "outputs": []
    },
    {
      "cell_type": "markdown",
      "source": [
        "**Download and inspect the dataset**\\\n",
        "https://www.kaggle.com/datasets/rmisra/news-headlines-dataset-for-sarcasm-detection \\\n",
        "This News Headlines dataset for Sarcasm Detection is collected from two news website. TheOnion aims at producing sarcastic versions of current events and we collected all the headlines from News in Brief and News in Photos categories (which are sarcastic). We collect real (and non-sarcastic) news headlines from HuffPost."
      ],
      "metadata": {
        "id": "ndSCM6eY_0eK"
      }
    },
    {
      "cell_type": "code",
      "source": [
        "!kaggle datasets download -d rmisra/news-headlines-dataset-for-sarcasm-detection\n",
        "\n",
        "!unzip news-headlines-dataset-for-sarcasm-detection.zip"
      ],
      "metadata": {
        "colab": {
          "base_uri": "https://localhost:8080/"
        },
        "id": "1kSpChe9B02K",
        "outputId": "d93a0a38-a48d-4aed-9d87-3d32f3327cf2"
      },
      "execution_count": 2,
      "outputs": [
        {
          "output_type": "stream",
          "name": "stdout",
          "text": [
            "Dataset URL: https://www.kaggle.com/datasets/rmisra/news-headlines-dataset-for-sarcasm-detection\n",
            "License(s): Attribution 4.0 International (CC BY 4.0)\n",
            "Downloading news-headlines-dataset-for-sarcasm-detection.zip to /content\n",
            "  0% 0.00/3.30M [00:00<?, ?B/s]\n",
            "100% 3.30M/3.30M [00:00<00:00, 138MB/s]\n",
            "Archive:  news-headlines-dataset-for-sarcasm-detection.zip\n",
            "  inflating: Sarcasm_Headlines_Dataset.json  \n",
            "  inflating: Sarcasm_Headlines_Dataset_v2.json  \n"
          ]
        }
      ]
    },
    {
      "cell_type": "markdown",
      "source": [
        "**Load the JSON file**"
      ],
      "metadata": {
        "id": "_KK3YM77EA74"
      }
    },
    {
      "cell_type": "code",
      "source": [
        "with open(\"Sarcasm_Headlines_Dataset.json\", 'r') as f:\n",
        "    datastore = [json.loads(line) for line in f]\n",
        "\n",
        "# Non-sarcastic headline\n",
        "print(datastore[0])\n",
        "\n",
        "# Sarcastic headline\n",
        "print(datastore[20000])"
      ],
      "metadata": {
        "colab": {
          "base_uri": "https://localhost:8080/"
        },
        "id": "-KImnjvuCS_c",
        "outputId": "d73ad9db-7113-4e06-adc9-68e2037bb180"
      },
      "execution_count": 3,
      "outputs": [
        {
          "output_type": "stream",
          "name": "stdout",
          "text": [
            "{'article_link': 'https://www.huffingtonpost.com/entry/versace-black-code_us_5861fbefe4b0de3a08f600d5', 'headline': \"former versace store clerk sues over secret 'black code' for minority shoppers\", 'is_sarcastic': 0}\n",
            "{'article_link': 'https://www.theonion.com/pediatricians-announce-2011-newborns-are-ugliest-babies-1819572977', 'headline': 'pediatricians announce 2011 newborns are ugliest babies in 30 years', 'is_sarcastic': 1}\n"
          ]
        }
      ]
    },
    {
      "cell_type": "markdown",
      "source": [
        "**Collect all urls, headlines, and labels**"
      ],
      "metadata": {
        "id": "YMEwAZkdEPZW"
      }
    },
    {
      "cell_type": "code",
      "source": [
        "# Initialize lists\n",
        "sentences = []\n",
        "labels = []\n",
        "urls = []\n",
        "\n",
        "# Append elements in the dictionaries into each list\n",
        "for item in datastore:\n",
        "  sentences.append(item['headline'])\n",
        "  labels.append(item['is_sarcastic'])\n",
        "  urls.append(item['article_link'])"
      ],
      "metadata": {
        "id": "lv9n3z9-EUOo"
      },
      "execution_count": 4,
      "outputs": []
    },
    {
      "cell_type": "markdown",
      "source": [
        "**Preprocessing the headlines**"
      ],
      "metadata": {
        "id": "GDP2S_8kEZci"
      }
    },
    {
      "cell_type": "code",
      "source": [
        "# Initialize the Tokenizer class\n",
        "tokenizer = Tokenizer(oov_token=\"<OOV>\")\n",
        "\n",
        "# Generate the word index dictionary\n",
        "tokenizer.fit_on_texts(sentences)\n",
        "\n",
        "# Print the length of the word index\n",
        "word_index = tokenizer.word_index\n",
        "print((f'number of words in word_index: {len(word_index)}'))\n",
        "\n",
        "# Print the word index\n",
        "print(type(word_index))\n",
        "first_100_word_index = {k: word_index[k] for k in list(word_index.keys())[:100]}\n",
        "print(f'word_index (first 100 indexes): {first_100_word_index}')\n",
        "print()\n",
        "\n",
        "# Generate and pad the sequences\n",
        "sequences = tokenizer.texts_to_sequences(sentences)\n",
        "padded = pad_sequences(sequences, padding='post')\n",
        "\n",
        "# Print a sample headline\n",
        "index = 3\n",
        "print(f'sample headline: {sentences[index]}')\n",
        "print(f'padded sequence: {padded[index]}')\n",
        "print()\n",
        "\n",
        "# Print dimensions of padded sequences\n",
        "print(f'shape of padded sequences: {padded.shape}')"
      ],
      "metadata": {
        "colab": {
          "base_uri": "https://localhost:8080/"
        },
        "id": "fmAT1U9SEatI",
        "outputId": "a88273e4-65aa-4f97-ace7-b5ce5d515a48"
      },
      "execution_count": 16,
      "outputs": [
        {
          "output_type": "stream",
          "name": "stdout",
          "text": [
            "number of words in word_index: 29657\n",
            "<class 'dict'>\n",
            "word_index (first 100 indexes): {'<OOV>': 1, 'to': 2, 'of': 3, 'the': 4, 'in': 5, 'for': 6, 'a': 7, 'on': 8, 'and': 9, 'with': 10, 'is': 11, 'new': 12, 'trump': 13, 'man': 14, 'from': 15, 'at': 16, 'about': 17, 'you': 18, 'this': 19, 'by': 20, 'after': 21, 'up': 22, 'out': 23, 'be': 24, 'how': 25, 'as': 26, 'it': 27, 'that': 28, 'not': 29, 'are': 30, 'your': 31, 'his': 32, 'what': 33, 'he': 34, 'all': 35, 'just': 36, 'who': 37, 'has': 38, 'will': 39, 'more': 40, 'one': 41, 'into': 42, 'report': 43, 'year': 44, 'why': 45, 'have': 46, 'area': 47, 'over': 48, 'donald': 49, 'u': 50, 'day': 51, 'says': 52, 's': 53, 'can': 54, 'first': 55, 'woman': 56, 'time': 57, 'like': 58, 'her': 59, \"trump's\": 60, 'old': 61, 'no': 62, 'get': 63, 'off': 64, 'an': 65, 'life': 66, 'people': 67, 'obama': 68, 'now': 69, 'house': 70, 'still': 71, \"'\": 72, 'women': 73, 'make': 74, 'was': 75, 'than': 76, 'white': 77, 'back': 78, 'my': 79, 'i': 80, 'clinton': 81, 'down': 82, 'if': 83, '5': 84, 'when': 85, 'world': 86, 'could': 87, 'we': 88, 'their': 89, 'before': 90, 'americans': 91, 'way': 92, 'do': 93, 'family': 94, 'most': 95, 'gop': 96, 'they': 97, 'study': 98, 'school': 99, \"it's\": 100}\n",
            "\n",
            "sample headline: boehner just wants wife to listen, not come up with alternative debt-reduction ideas\n",
            "padded sequence: [1485   36  224  400    2 1832   29  319   22   10 2924 1393 6969  968\n",
            "    0    0    0    0    0    0    0    0    0    0    0    0    0    0\n",
            "    0    0    0    0    0    0    0    0    0    0    0    0]\n",
            "\n",
            "shape of padded sequences: (26709, 40)\n"
          ]
        }
      ]
    },
    {
      "cell_type": "code",
      "source": [],
      "metadata": {
        "id": "G3GSgTi3vp3s"
      },
      "execution_count": null,
      "outputs": []
    }
  ]
}